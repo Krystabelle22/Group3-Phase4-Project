{
 "cells": [
  {
   "cell_type": "markdown",
   "metadata": {},
   "source": [
    "# Dataset Cleaning Notebook\n",
    "## Drone vs. Bird YOLO Dataset\n",
    "This notebook cleans a YOLO-formatted dataset by:\n",
    "1. Removing corrupt images\n",
    "2. Verifying label files exist\n",
    "3. Creating cleaned folders with valid pairs"
   ]
  },
  {
   "cell_type": "markdown",
   "metadata": {},
   "source": [
    "\n",
    "# =============================================\n",
    "# 1: Imports and Setup\n",
    "# ============================================="
   ]
  },
  {
   "cell_type": "code",
   "execution_count": 1,
   "metadata": {},
   "outputs": [
    {
     "name": "stdout",
     "output_type": "stream",
     "text": [
      "All modules are installed correctly!\n"
     ]
    }
   ],
   "source": [
    "import os\n",
    "from PIL import Image\n",
    "import cv2\n",
    "import shutil\n",
    "from tqdm import tqdm\n",
    "\n",
    "print(\"All modules are installed correctly!\")\n"
   ]
  },
  {
   "cell_type": "markdown",
   "metadata": {},
   "source": [
    "\n",
    "# =============================================\n",
    "# 2: Path configuration \n",
    "# =============================================\n"
   ]
  },
  {
   "cell_type": "code",
   "execution_count": null,
   "metadata": {},
   "outputs": [
    {
     "name": "stdout",
     "output_type": "stream",
     "text": [
      "✅ Paths configured:\n",
      "Base dataset path: C:\\Users\\josep\\Documents\\My_Data_Science\\Projects\\School_projects\\phase_4\\Dataset\n",
      "Cleaned data will be saved to: C:\\Users\\josep\\Documents\\My_Data_Science\\Projects\\School_projects\\phase_4\\Dataset\\cleaned_dataset\n"
     ]
    }
   ],
   "source": [
    "# Configure paths (UPDATE THESE TO MATCH YOUR SYSTEM)\n",
    "base_path = r\"C:\\Users\\josep\\Documents\\My_Data_Science\\Projects\\School_projects\\phase_4\\Dataset\"\n",
    "raw_folders = {\n",
    "    'train': os.path.join(base_path, 'train'),\n",
    "    'test': os.path.join(base_path, 'test'),\n",
    "    'valid': os.path.join(base_path, 'valid')\n",
    "}\n",
    "\n",
    "# Where to save cleaned data (will create cleaned_train, cleaned_test, cleaned_valid)\n",
    "cleaned_base = os.path.join(base_path, 'cleaned_dataset')\n",
    "\n",
    "print(\"✅ Paths configured:\")\n",
    "print(f\"Base dataset path: {base_path}\")\n",
    "print(f\"Cleaned data will be saved to: {cleaned_base}\")\n"
   ]
  },
  {
   "cell_type": "markdown",
   "metadata": {},
   "source": [
    "# =============================================\n",
    "# 3: CREATE CLEANED FOLDER STRUCTURE\n",
    "# ============================================="
   ]
  },
  {
   "cell_type": "code",
   "execution_count": null,
   "metadata": {},
   "outputs": [
    {
     "name": "stdout",
     "output_type": "stream",
     "text": [
      "Created: C:\\Users\\josep\\Documents\\My_Data_Science\\Projects\\School_projects\\phase_4\\Dataset\\cleaned_dataset\\cleaned_train\n",
      "Created: C:\\Users\\josep\\Documents\\My_Data_Science\\Projects\\School_projects\\phase_4\\Dataset\\cleaned_dataset\\cleaned_test\n",
      "Created: C:\\Users\\josep\\Documents\\My_Data_Science\\Projects\\School_projects\\phase_4\\Dataset\\cleaned_dataset\\cleaned_valid\n"
     ]
    }
   ],
   "source": [
    "def create_cleaned_structure():\n",
    "    \"\"\"Creates identical folder structure for cleaned data\"\"\"\n",
    "    os.makedirs(cleaned_base, exist_ok=True)\n",
    "    \n",
    "    for split in ['train', 'test', 'valid']:\n",
    "        # Create image and label subfolders for each split\n",
    "        os.makedirs(os.path.join(cleaned_base, f'cleaned_{split}', 'images'), exist_ok=True)\n",
    "        os.makedirs(os.path.join(cleaned_base, f'cleaned_{split}', 'labels'), exist_ok=True)\n",
    "        print(f\"Created: {os.path.join(cleaned_base, f'cleaned_{split}')}\")\n",
    "\n",
    "create_cleaned_structure()"
   ]
  },
  {
   "cell_type": "markdown",
   "metadata": {},
   "source": [
    "# =============================================\n",
    "# 3: IMAGE VALIDATION FUNCTION\n",
    "# ============================================="
   ]
  },
  {
   "cell_type": "code",
   "execution_count": 8,
   "metadata": {},
   "outputs": [
    {
     "name": "stdout",
     "output_type": "stream",
     "text": [
      "🔍 Image Validation Results:\n",
      "❌ BT(1).jpg - Corruption: [Errno 2] No such file or directory: 'C:\\\\Users\\\\j\n",
      "❌ DT(1).jpg - Corruption: [Errno 2] No such file or directory: 'C:\\\\Users\\\\j\n",
      "❌ invalid.jpg - Invalid filename pattern: invalid.jpg\n",
      "\n",
      "Processing train images...\n",
      "\n",
      "Processing test images...\n",
      "\n",
      "Processing valid images...\n"
     ]
    }
   ],
   "source": [
    "def validate_drone_bird_image(img_path):\n",
    "    \"\"\"\n",
    "    Validates images with strict naming patterns:\n",
    "    - Bird images: BT(number).jpg (e.g., BT1.jpg, BT2.jpg)\n",
    "    - Drone images: DT(number).jpg (e.g., DT1.jpg, DT2.jpg)\n",
    "    \n",
    "    Returns:\n",
    "        tuple: (is_valid: bool, category: str or None, error: str or None)\n",
    "    \"\"\"\n",
    "    filename = os.path.basename(img_path)\n",
    "    \n",
    "    # 1. Check filename pattern\n",
    "    if not (filename.startswith('BT(') and filename.endswith(').jpg')) and \\\n",
    "       not (filename.startswith('DT(') and filename.endswith(').jpg')):\n",
    "        return False, None, f\"Invalid filename pattern: {filename}\"\n",
    "    \n",
    "    # 2. Extract category\n",
    "    category = 'bird' if filename.startswith('BT(') else 'drone'\n",
    "    \n",
    "    try:\n",
    "        # 3. Verify image integrity\n",
    "        with Image.open(img_path) as img:\n",
    "            img.verify()\n",
    "            img.load()\n",
    "            \n",
    "            # 4. Check resolution (optional)\n",
    "            if img.size != (640, 640):\n",
    "                return False, category, f\"Incorrect size: {img.size}\"\n",
    "                \n",
    "        # 5. OpenCV validation\n",
    "        if cv2.imread(img_path) is None:\n",
    "            return False, category, \"OpenCV read failed\"\n",
    "            \n",
    "        return True, category, None\n",
    "        \n",
    "    except Exception as e:\n",
    "        return False, category, f\"Corruption: {str(e)[:50]}\"\n",
    "\n",
    "# Example usage\n",
    "sample_images = [\n",
    "    r\"C:\\Users\\josep\\Documents\\My_Data_Science\\Projects\\School_projects\\phase_4\\Dataset\\train\\images\\BT(1).jpg\",\n",
    "    r\"C:\\Users\\josep\\Documents\\My_Data_Science\\Projects\\School_projects\\phase_4\\Dataset\\train\\images\\DT(1).jpg\",\n",
    "    r\"C:\\Users\\josep\\Documents\\My_Data_Science\\Projects\\School_projects\\phase_4\\Dataset\\train\\images\\invalid.jpg\"\n",
    "]\n",
    "\n",
    "print(\"🔍 Image Validation Results:\")\n",
    "for img_path in sample_images:\n",
    "    is_valid, category, error = validate_drone_bird_image(img_path)\n",
    "    \n",
    "    if is_valid:\n",
    "        print(f\"✅ {os.path.basename(img_path)} - Valid {category} image\")\n",
    "    else:\n",
    "        print(f\"❌ {os.path.basename(img_path)} - {error}\")\n",
    "\n",
    "# Full processing function\n",
    "def process_all_images(base_path):\n",
    "    \"\"\"Processes all images in the dataset\"\"\"\n",
    "    for split in ['train', 'test', 'valid']:\n",
    "        img_dir = os.path.join(base_path, split, 'images')\n",
    "        print(f\"\\nProcessing {split} images...\")\n",
    "        \n",
    "        for img_file in os.listdir(img_dir):\n",
    "            img_path = os.path.join(img_dir, img_file)\n",
    "            is_valid, category, error = validate_drone_bird_image(img_path)\n",
    "            \n",
    "            if not is_valid:\n",
    "                continue  # Skip invalid files\n",
    "                \n",
    "            # Process valid images here\n",
    "            print(f\"Processing {category} image: {img_file}\")\n",
    "            # Your processing code here\n",
    "\n",
    "# Run on your actual dataset\n",
    "process_all_images(r\"C:\\Users\\josep\\Documents\\My_Data_Science\\Projects\\School_projects\\phase_4\\Dataset\")"
   ]
  },
  {
   "cell_type": "markdown",
   "metadata": {},
   "source": [
    "# =============================================\n",
    "# CELL 4: MAIN CLEANING PROCESS\n",
    "# ============================================="
   ]
  },
  {
   "cell_type": "code",
   "execution_count": 9,
   "metadata": {},
   "outputs": [
    {
     "name": "stdout",
     "output_type": "stream",
     "text": [
      "\n",
      "🔍 Processing train set...\n"
     ]
    },
    {
     "name": "stderr",
     "output_type": "stream",
     "text": [
      "Validating train images: 100%|██████████| 18323/18323 [14:54<00:00, 20.47it/s]  \n"
     ]
    },
    {
     "name": "stdout",
     "output_type": "stream",
     "text": [
      "✔️ TRAIN Results:\n",
      "  - Total images: 18323\n",
      "  - Valid pairs copied: 18323\n",
      "  - Corrupt images: 0\n",
      "  - Missing labels: 0\n",
      "\n",
      "🔍 Processing test set...\n"
     ]
    },
    {
     "name": "stderr",
     "output_type": "stream",
     "text": [
      "Validating test images: 100%|██████████| 889/889 [00:23<00:00, 37.68it/s]\n"
     ]
    },
    {
     "name": "stdout",
     "output_type": "stream",
     "text": [
      "✔️ TEST Results:\n",
      "  - Total images: 889\n",
      "  - Valid pairs copied: 889\n",
      "  - Corrupt images: 0\n",
      "  - Missing labels: 0\n",
      "\n",
      "🔍 Processing valid set...\n"
     ]
    },
    {
     "name": "stderr",
     "output_type": "stream",
     "text": [
      "Validating valid images: 100%|██████████| 1740/1740 [01:18<00:00, 22.23it/s]"
     ]
    },
    {
     "name": "stdout",
     "output_type": "stream",
     "text": [
      "✔️ VALID Results:\n",
      "  - Total images: 1740\n",
      "  - Valid pairs copied: 1740\n",
      "  - Corrupt images: 0\n",
      "  - Missing labels: 0\n"
     ]
    },
    {
     "name": "stderr",
     "output_type": "stream",
     "text": [
      "\n"
     ]
    }
   ],
   "source": [
    "def clean_dataset():\n",
    "    \"\"\"Processes all dataset splits to create cleaned version\"\"\"\n",
    "    stats = {}  # To track processing statistics\n",
    "    \n",
    "    for split in ['train', 'test', 'valid']:\n",
    "        print(f\"\\n🔍 Processing {split} set...\")\n",
    "        stats[split] = {\n",
    "            'total': 0,\n",
    "            'valid': 0,\n",
    "            'corrupt': 0,\n",
    "            'missing_label': 0\n",
    "        }\n",
    "        \n",
    "        # Path setup\n",
    "        img_dir = os.path.join(raw_folders[split], 'images')\n",
    "        label_dir = os.path.join(raw_folders[split], 'labels')\n",
    "        cleaned_img_dir = os.path.join(cleaned_base, f'cleaned_{split}', 'images')\n",
    "        cleaned_label_dir = os.path.join(cleaned_base, f'cleaned_{split}', 'labels')\n",
    "        \n",
    "        # Get all image files (JPG, JPEG, PNG)\n",
    "        image_files = [f for f in os.listdir(img_dir) \n",
    "                      if f.lower().endswith(('.jpg', '.jpeg', '.png'))]\n",
    "        stats[split]['total'] = len(image_files)\n",
    "        \n",
    "        # Process each image with progress bar\n",
    "        for img_file in tqdm(image_files, desc=f\"Validating {split} images\"):\n",
    "            img_path = os.path.join(img_dir, img_file)\n",
    "            label_file = os.path.splitext(img_file)[0] + '.txt'\n",
    "            label_path = os.path.join(label_dir, label_file)\n",
    "            \n",
    "            # Skip if image is invalid\n",
    "            if not validate_image(img_path):\n",
    "                stats[split]['corrupt'] += 1\n",
    "                continue\n",
    "                \n",
    "            # Skip if label is missing\n",
    "            if not os.path.exists(label_path):\n",
    "                stats[split]['missing_label'] += 1\n",
    "                continue\n",
    "                \n",
    "            # Copy valid pairs to cleaned folders\n",
    "            shutil.copy2(img_path, os.path.join(cleaned_img_dir, img_file))\n",
    "            shutil.copy2(label_path, os.path.join(cleaned_label_dir, label_file))\n",
    "            stats[split]['valid'] += 1\n",
    "            \n",
    "        # Print summary for this split\n",
    "        print(f\"✔️ {split.upper()} Results:\")\n",
    "        print(f\"  - Total images: {stats[split]['total']}\")\n",
    "        print(f\"  - Valid pairs copied: {stats[split]['valid']}\")\n",
    "        print(f\"  - Corrupt images: {stats[split]['corrupt']}\")\n",
    "        print(f\"  - Missing labels: {stats[split]['missing_label']}\")\n",
    "    \n",
    "    return stats\n",
    "\n",
    "# Run the cleaning process\n",
    "cleaning_stats = clean_dataset()"
   ]
  },
  {
   "cell_type": "markdown",
   "metadata": {},
   "source": [
    "# =============================================\n",
    "# CELL 5: VERIFICATION AND SUMMARY\n",
    "# ============================================="
   ]
  },
  {
   "cell_type": "code",
   "execution_count": null,
   "metadata": {},
   "outputs": [
    {
     "name": "stdout",
     "output_type": "stream",
     "text": [
      "\n",
      "🎉 FINAL CLEANING SUMMARY\n",
      "\n",
      "TRAIN:\n",
      "  - Valid pairs: 18323/18323 (100.0%)\n",
      "  - Issues detected: 0\n",
      "\n",
      "TEST:\n",
      "  - Valid pairs: 889/889 (100.0%)\n",
      "  - Issues detected: 0\n",
      "\n",
      "VALID:\n",
      "  - Valid pairs: 1740/1740 (100.0%)\n",
      "  - Issues detected: 0\n",
      "\n",
      "📂 Final folder contents:\n",
      "TRAIN:\n",
      "  - Images: 18323\n",
      "  - Labels: 18323\n",
      "  - ✅ Matched\n",
      "TEST:\n",
      "  - Images: 889\n",
      "  - Labels: 889\n",
      "  - ✅ Matched\n",
      "VALID:\n",
      "  - Images: 1740\n",
      "  - Labels: 1740\n",
      "  - ✅ Matched\n"
     ]
    }
   ],
   "source": [
    "print(\"\\n🎉 FINAL CLEANING SUMMARY\")\n",
    "\n",
    "# Calculate percentages\n",
    "for split in cleaning_stats:\n",
    "    stats = cleaning_stats[split]\n",
    "    valid_pct = (stats['valid'] / stats['total']) * 100\n",
    "    print(f\"\\n{split.upper()}:\")\n",
    "    print(f\"  - Valid pairs: {stats['valid']}/{stats['total']} ({valid_pct:.1f}%)\")\n",
    "    print(f\"  - Issues detected: {stats['corrupt'] + stats['missing_label']}\")\n",
    "\n",
    "# Verify file counts match\n",
    "print(\"\\n📂 Final folder contents:\")\n",
    "for split in ['train', 'test', 'valid']:\n",
    "    img_dir = os.path.join(cleaned_base, f'cleaned_{split}', 'images')\n",
    "    label_dir = os.path.join(cleaned_base, f'cleaned_{split}', 'labels')\n",
    "    \n",
    "    img_count = len(os.listdir(img_dir))\n",
    "    label_count = len(os.listdir(label_dir))\n",
    "    \n",
    "    print(f\"{split.upper()}:\")\n",
    "    print(f\"  - Images: {img_count}\")\n",
    "    print(f\"  - Labels: {label_count}\")\n",
    "    print(f\"  - {'✅ Matched' if img_count == label_count else '❌ Mismatch'}\")\n"
   ]
  },
  {
   "cell_type": "code",
   "execution_count": null,
   "metadata": {},
   "outputs": [],
   "source": []
  }
 ],
 "metadata": {
  "kernelspec": {
   "display_name": "computervision-env",
   "language": "python",
   "name": "python3"
  },
  "language_info": {
   "codemirror_mode": {
    "name": "ipython",
    "version": 3
   },
   "file_extension": ".py",
   "mimetype": "text/x-python",
   "name": "python",
   "nbconvert_exporter": "python",
   "pygments_lexer": "ipython3",
   "version": "3.8.20"
  }
 },
 "nbformat": 4,
 "nbformat_minor": 2
}
